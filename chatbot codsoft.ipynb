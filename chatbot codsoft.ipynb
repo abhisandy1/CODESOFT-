{
 "cells": [
  {
   "cell_type": "markdown",
   "id": "56b8dbc3-40c9-4863-9df0-0de89f66d44a",
   "metadata": {},
   "source": [
    "# Project- Rule Based Chatbot"
   ]
  },
  {
   "cell_type": "code",
   "execution_count": 12,
   "id": "f2ac459b-a33b-47aa-a0a5-8bd73e6677c0",
   "metadata": {},
   "outputs": [
    {
     "name": "stdout",
     "output_type": "stream",
     "text": [
      "Chatbot: Hi! I am RuleBot, your advanced assistant. Type 'exit' to end the conversation.\n"
     ]
    },
    {
     "name": "stdin",
     "output_type": "stream",
     "text": [
      "You:  hello\n"
     ]
    },
    {
     "name": "stdout",
     "output_type": "stream",
     "text": [
      "Chatbot: Hello! How can I assist you today?\n"
     ]
    },
    {
     "name": "stdin",
     "output_type": "stream",
     "text": [
      "You:  tell me a joke\n"
     ]
    },
    {
     "name": "stdout",
     "output_type": "stream",
     "text": [
      "Chatbot: Why does Norway have barcodes on their battleships? - So when they get back to port, they can Scandinavian.\n"
     ]
    },
    {
     "name": "stdin",
     "output_type": "stream",
     "text": [
      "You:  weather in bangalore\n"
     ]
    },
    {
     "name": "stdout",
     "output_type": "stream",
     "text": [
      "Chatbot: The current temperature in Bangalore is 19.5°C.\n"
     ]
    },
    {
     "name": "stdin",
     "output_type": "stream",
     "text": [
      "You:  what is deep learning\n"
     ]
    },
    {
     "name": "stdout",
     "output_type": "stream",
     "text": [
      "Chatbot: Deep Learning is a subset of Machine Learning that uses neural networks with many layers. It excels in tasks like image recognition, natural language processing, and autonomous driving.\n"
     ]
    },
    {
     "name": "stdin",
     "output_type": "stream",
     "text": [
      "You:  thank you\n"
     ]
    },
    {
     "name": "stdout",
     "output_type": "stream",
     "text": [
      "Chatbot: its good to hear. Feel free to ask anything\n"
     ]
    },
    {
     "name": "stdin",
     "output_type": "stream",
     "text": [
      "You:  bye\n"
     ]
    },
    {
     "name": "stdout",
     "output_type": "stream",
     "text": [
      "Chatbot: Goodbye! Have a great day!\n"
     ]
    }
   ],
   "source": [
    "import re\n",
    "from datetime import datetime\n",
    "import requests\n",
    "\n",
    "\n",
    "class Chatbot:\n",
    "    def __init__(self):\n",
    "        self.context = {}\n",
    "\n",
    "    def fetch_joke(self):\n",
    "        \"\"\"Fetch a random joke from a free API.\"\"\"\n",
    "        try:\n",
    "            response = requests.get(\"https://official-joke-api.appspot.com/random_joke\")\n",
    "            if response.status_code == 200:\n",
    "                joke_data = response.json()\n",
    "                return f\"{joke_data['setup']} - {joke_data['punchline']}\"\n",
    "            else:\n",
    "                return \"I couldn't fetch a joke at the moment. Please try again later!\"\n",
    "        except Exception as e:\n",
    "            return f\"Error fetching joke: {e}\"\n",
    "\n",
    "    def fetch_weather(self, city):\n",
    "        \"\"\"Fetch weather data for a specific city using Open-Meteo (Free API).\"\"\"\n",
    "        try:\n",
    "            city_coords = {\n",
    "                \"bangalore\": {\"lat\": 12.9716, \"lon\": 77.5946},\n",
    "                \"mumbai\": {\"lat\": 19.0760, \"lon\": 72.8777},\n",
    "                \"delhi\": {\"lat\": 28.6139, \"lon\": 77.2090},\n",
    "            }\n",
    "            coords = city_coords.get(city.lower())\n",
    "            if not coords:\n",
    "                return f\"Sorry, I don't have weather data for {city}.\"\n",
    "\n",
    "            url = f\"https://api.open-meteo.com/v1/forecast?latitude={coords['lat']}&longitude={coords['lon']}&current_weather=true\"\n",
    "            response = requests.get(url)\n",
    "            if response.status_code == 200:\n",
    "                data = response.json()\n",
    "                temp = data[\"current_weather\"][\"temperature\"]\n",
    "                return f\"The current temperature in {city.capitalize()} is {temp}°C.\"\n",
    "            else:\n",
    "                return \"I couldn't fetch the weather details right now. Please try again later!\"\n",
    "        except Exception as e:\n",
    "            return f\"Error fetching weather: {e}\"\n",
    "\n",
    "    def chatbot_response(self, user_input):\n",
    "        \"\"\"Generate a response based on user input.\"\"\"\n",
    "        responses = [\n",
    "            (r'hello|hi|hey', \"Hello! How can I assist you today?\"),\n",
    "            (r'how are you', \"I'm doing great! How about you?\"),\n",
    "            (r'Thank you',\"its good to hear. Feel free to ask anything\"),\n",
    "            (r'what is your name|who are you', \"I am RuleBot, your virtual assistant!\"),\n",
    "            (r'what time is it|current time', f\"The current time is {datetime.now().strftime('%H:%M:%S')}\"),\n",
    "            (r'what is the date|current date', f\"Today's date is {datetime.now().strftime('%Y-%m-%d')}\"),\n",
    "            (r'tell me a joke|joke', lambda _: self.fetch_joke()),\n",
    "            (r'weather in (\\w+)', lambda match: self.fetch_weather(match.group(1))),\n",
    "            (r'weather', \"Please specify a city (e.g., 'weather in Mumbai') to get the weather details.\"),\n",
    "            (r'bye|goodbye|quit|exit', \"Goodbye! Have a great day!\"),\n",
    "            (r'who created you|your creator', \"I was created by a passionate developer to assist you.\"),\n",
    "            (r'tell me about python', \"Python is a versatile and powerful programming language used for various applications like web development, AI, and data analysis.\"),\n",
    "            (r'what is ai|artificial intelligence', \"Artificial Intelligence (AI) refers to the simulation of human intelligence in machines that can perform tasks like problem-solving, decision-making, and learning.\"),\n",
    "             (r'tell me about machine learning|what is machine learning', (\n",
    "            \"Machine Learning (ML) is a subset of AI that focuses on building systems that learn from data. \"\n",
    "            \"Algorithms like regression, classification, clustering, and neural networks are commonly used in ML.\"\n",
    "        )),\n",
    "        (r'what is deep learning', (\n",
    "            \"Deep Learning is a subset of Machine Learning that uses neural networks with many layers. \"\n",
    "            \"It excels in tasks like image recognition, natural language processing, and autonomous driving.\"\n",
    "        )),\n",
    "        (r'tell me a fun fact|fun fact', \"Did you know? The first computer programmer was Ada Lovelace in the 1800s.\"),\n",
    "            (r'tell me a fun fact|fun fact', \"Did you know? Honey never spoils! Archaeologists have found pots of honey in ancient Egyptian tombs that are over 3,000 years old and still perfectly edible.\"),\n",
    "            (r'what is your purpose', \"I am here to assist you with your queries, provide information, and make our conversation enjoyable!\"),\n",
    "            (r'.*\\?', \"That's an interesting question. Let me think about it!\"),\n",
    "        ]\n",
    "\n",
    "        # Match user input with predefined patterns\n",
    "        for pattern, response in responses:\n",
    "            match = re.search(pattern, user_input, re.IGNORECASE)\n",
    "            if match:\n",
    "                return response(match) if callable(response) else response\n",
    "\n",
    "        # Default response\n",
    "        return \"I'm sorry, I didn't understand that. Could you please rephrase?\"\n",
    "\n",
    "    def start_chat(self):\n",
    "        \"\"\"Start the chatbot loop.\"\"\"\n",
    "        print(\"Chatbot: Hi! I am RuleBot, your advanced assistant. Type 'exit' to end the conversation.\")\n",
    "        while True:\n",
    "            user_input = input(\"You: \").strip()\n",
    "            if re.search(r'bye|goodbye|quit|exit', user_input, re.IGNORECASE):\n",
    "                print(\"Chatbot: Goodbye! Have a great day!\")\n",
    "                break\n",
    "            response = self.chatbot_response(user_input)\n",
    "            print(f\"Chatbot: {response}\")\n",
    "\n",
    "\n",
    "# Main chatbot execution\n",
    "if __name__ == \"__main__\":\n",
    "    chatbot = Chatbot()\n",
    "    chatbot.start_chat()\n"
   ]
  },
  {
   "cell_type": "code",
   "execution_count": null,
   "id": "98e36ccf-8393-4438-a5c4-d07fd5353293",
   "metadata": {},
   "outputs": [],
   "source": []
  },
  {
   "cell_type": "code",
   "execution_count": null,
   "id": "41f07b98-5b00-4c42-9660-963c74952614",
   "metadata": {},
   "outputs": [],
   "source": []
  },
  {
   "cell_type": "code",
   "execution_count": null,
   "id": "9a7526e5-edff-49e6-83f6-1fa4a76fcd2f",
   "metadata": {},
   "outputs": [],
   "source": []
  }
 ],
 "metadata": {
  "kernelspec": {
   "display_name": "Python 3 (ipykernel)",
   "language": "python",
   "name": "python3"
  },
  "language_info": {
   "codemirror_mode": {
    "name": "ipython",
    "version": 3
   },
   "file_extension": ".py",
   "mimetype": "text/x-python",
   "name": "python",
   "nbconvert_exporter": "python",
   "pygments_lexer": "ipython3",
   "version": "3.12.3"
  }
 },
 "nbformat": 4,
 "nbformat_minor": 5
}
