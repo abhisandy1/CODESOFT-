{
 "cells": [
  {
   "cell_type": "markdown",
   "id": "45126404-81d2-4a35-82c6-3cdbf55414d9",
   "metadata": {},
   "source": [
    "# Project-Tic Tac Toe AI\n",
    "Implement an AI agent that plays the classic game of Tic-Tac-Toe against a human player. You can use algorithms like Minimax with or without Alpha-Beta Pruning to make the AI player unbeatable. This project will help you understand game theory and basic search algorithms\n",
    "\n"
   ]
  },
  {
   "cell_type": "code",
   "execution_count": 2,
   "id": "ccb72c21-8a38-4c1f-b1bf-77e406606597",
   "metadata": {},
   "outputs": [
    {
     "name": "stdout",
     "output_type": "stream",
     "text": [
      "Welcome to Tic-Tac-Toe!\n",
      "You are playing as 'X'. The AI is 'O'.\n",
      "  |   |  \n",
      "---------\n",
      "  |   |  \n",
      "---------\n",
      "  |   |  \n",
      "---------\n",
      "Your move! Provide the row and column (0-2):\n"
     ]
    },
    {
     "name": "stdin",
     "output_type": "stream",
     "text": [
      "Row, Column:  1,1\n"
     ]
    },
    {
     "name": "stdout",
     "output_type": "stream",
     "text": [
      "  |   |  \n",
      "---------\n",
      "  | X |  \n",
      "---------\n",
      "  |   |  \n",
      "---------\n",
      "AI is making its move...\n",
      "O |   |  \n",
      "---------\n",
      "  | X |  \n",
      "---------\n",
      "  |   |  \n",
      "---------\n",
      "Your move! Provide the row and column (0-2):\n"
     ]
    },
    {
     "name": "stdin",
     "output_type": "stream",
     "text": [
      "Row, Column:  2,0\n"
     ]
    },
    {
     "name": "stdout",
     "output_type": "stream",
     "text": [
      "O |   |  \n",
      "---------\n",
      "  | X |  \n",
      "---------\n",
      "X |   |  \n",
      "---------\n",
      "AI is making its move...\n",
      "O |   | O\n",
      "---------\n",
      "  | X |  \n",
      "---------\n",
      "X |   |  \n",
      "---------\n",
      "Your move! Provide the row and column (0-2):\n"
     ]
    },
    {
     "name": "stdin",
     "output_type": "stream",
     "text": [
      "Row, Column:  0,1\n"
     ]
    },
    {
     "name": "stdout",
     "output_type": "stream",
     "text": [
      "O | X | O\n",
      "---------\n",
      "  | X |  \n",
      "---------\n",
      "X |   |  \n",
      "---------\n",
      "AI is making its move...\n",
      "O | X | O\n",
      "---------\n",
      "  | X |  \n",
      "---------\n",
      "X | O |  \n",
      "---------\n",
      "Your move! Provide the row and column (0-2):\n"
     ]
    },
    {
     "name": "stdin",
     "output_type": "stream",
     "text": [
      "Row, Column:  1,2\n"
     ]
    },
    {
     "name": "stdout",
     "output_type": "stream",
     "text": [
      "O | X | O\n",
      "---------\n",
      "  | X | X\n",
      "---------\n",
      "X | O |  \n",
      "---------\n",
      "AI is making its move...\n",
      "O | X | O\n",
      "---------\n",
      "O | X | X\n",
      "---------\n",
      "X | O |  \n",
      "---------\n",
      "Your move! Provide the row and column (0-2):\n"
     ]
    },
    {
     "name": "stdin",
     "output_type": "stream",
     "text": [
      "Row, Column:  2,2\n"
     ]
    },
    {
     "name": "stdout",
     "output_type": "stream",
     "text": [
      "O | X | O\n",
      "---------\n",
      "O | X | X\n",
      "---------\n",
      "X | O | X\n",
      "---------\n",
      "It's a tie!\n"
     ]
    }
   ],
   "source": [
    "import math\n",
    "\n",
    "# Create the game board\n",
    "def create_game_board():\n",
    "    return [[' ' for _ in range(3)] for _ in range(3)]\n",
    "\n",
    "# Display the game board\n",
    "def display_board(board):\n",
    "    for row in board:\n",
    "        print(' | '.join(row))\n",
    "        print('-' * 9)\n",
    "\n",
    "# Verify if a position is valid for a move\n",
    "def is_position_valid(board, row, col):\n",
    "    return board[row][col] == ' '\n",
    "\n",
    "# Check if the game board is fully occupied\n",
    "def board_is_full(board):\n",
    "    return all(cell != ' ' for row in board for cell in row)\n",
    "\n",
    "# Determine if a player has won\n",
    "def has_player_won(board, player):\n",
    "    # Check horizontal and vertical win conditions\n",
    "    for i in range(3):\n",
    "        if all(board[i][j] == player for j in range(3)):  # Horizontal\n",
    "            return True\n",
    "        if all(board[j][i] == player for j in range(3)):  # Vertical\n",
    "            return True\n",
    "    # Check diagonal win conditions\n",
    "    if all(board[k][k] == player for k in range(3)):  # Top-left to bottom-right\n",
    "        return True\n",
    "    if all(board[k][2 - k] == player for k in range(3)):  # Top-right to bottom-left\n",
    "        return True\n",
    "    return False\n",
    "\n",
    "# Calculate the score of the board for Minimax\n",
    "def calculate_score(board):\n",
    "    if has_player_won(board, 'O'):  # AI is 'O'\n",
    "        return 1\n",
    "    if has_player_won(board, 'X'):  # Human is 'X'\n",
    "        return -1\n",
    "    return 0\n",
    "\n",
    "# Implement the Minimax algorithm\n",
    "def minimax_algorithm(board, is_ai_turn):\n",
    "    score = calculate_score(board)\n",
    "\n",
    "    # If there's a winner or the board is full, return the score\n",
    "    if score != 0 or board_is_full(board):\n",
    "        return score\n",
    "\n",
    "    if is_ai_turn:\n",
    "        max_eval = -math.inf\n",
    "        for r in range(3):\n",
    "            for c in range(3):\n",
    "                if board[r][c] == ' ':\n",
    "                    board[r][c] = 'O'\n",
    "                    evaluation = minimax_algorithm(board, False)\n",
    "                    board[r][c] = ' '\n",
    "                    max_eval = max(max_eval, evaluation)\n",
    "        return max_eval\n",
    "    else:\n",
    "        min_eval = math.inf\n",
    "        for r in range(3):\n",
    "            for c in range(3):\n",
    "                if board[r][c] == ' ':\n",
    "                    board[r][c] = 'X'\n",
    "                    evaluation = minimax_algorithm(board, True)\n",
    "                    board[r][c] = ' '\n",
    "                    min_eval = min(min_eval, evaluation)\n",
    "        return min_eval\n",
    "\n",
    "# Determine the AI's best move\n",
    "def find_best_move(board):\n",
    "    optimal_score = -math.inf\n",
    "    best_move = None\n",
    "    for r in range(3):\n",
    "        for c in range(3):\n",
    "            if board[r][c] == ' ':\n",
    "                board[r][c] = 'O'\n",
    "                current_score = minimax_algorithm(board, False)\n",
    "                board[r][c] = ' '\n",
    "                if current_score > optimal_score:\n",
    "                    optimal_score = current_score\n",
    "                    best_move = (r, c)\n",
    "    return best_move\n",
    "\n",
    "# Main game function\n",
    "def start_tic_tac_toe():\n",
    "    game_board = create_game_board()\n",
    "    print(\"Welcome to Tic-Tac-Toe!\")\n",
    "    print(\"You are playing as 'X'. The AI is 'O'.\")\n",
    "    display_board(game_board)\n",
    "\n",
    "    while True:\n",
    "        # Player's move\n",
    "        print(\"Your move! Provide the row and column (0-2):\")\n",
    "        try:\n",
    "            row, col = map(int, input(\"Row, Column: \").split(','))\n",
    "        except ValueError:\n",
    "            print(\"Invalid input! Use comma-separated row and column values.\")\n",
    "            continue\n",
    "\n",
    "        if row not in range(3) or col not in range(3) or not is_position_valid(game_board, row, col):\n",
    "            print(\"Invalid position! Please try again.\")\n",
    "            continue\n",
    "\n",
    "        game_board[row][col] = 'X'\n",
    "        display_board(game_board)\n",
    "\n",
    "        if has_player_won(game_board, 'X'):\n",
    "            print(\"Congratulations! You defeated the AI!\")\n",
    "            break\n",
    "        if board_is_full(game_board):\n",
    "            print(\"It's a tie!\")\n",
    "            break\n",
    "\n",
    "        # AI's turn\n",
    "        print(\"AI is making its move...\")\n",
    "        ai_row, ai_col = find_best_move(game_board)\n",
    "        game_board[ai_row][ai_col] = 'O'\n",
    "        display_board(game_board)\n",
    "\n",
    "        if has_player_won(game_board, 'O'):\n",
    "            print(\"AI wins! Better luck next time!\")\n",
    "            break\n",
    "        if board_is_full(game_board):\n",
    "            print(\"It's a tie!\")\n",
    "            break\n",
    "\n",
    "# Execute the game\n",
    "if __name__ == \"__main__\":\n",
    "    start_tic_tac_toe()\n"
   ]
  },
  {
   "cell_type": "code",
   "execution_count": null,
   "id": "d04071cc-3686-4324-99ea-cad62657512d",
   "metadata": {},
   "outputs": [],
   "source": []
  }
 ],
 "metadata": {
  "kernelspec": {
   "display_name": "Python 3 (ipykernel)",
   "language": "python",
   "name": "python3"
  },
  "language_info": {
   "codemirror_mode": {
    "name": "ipython",
    "version": 3
   },
   "file_extension": ".py",
   "mimetype": "text/x-python",
   "name": "python",
   "nbconvert_exporter": "python",
   "pygments_lexer": "ipython3",
   "version": "3.12.3"
  }
 },
 "nbformat": 4,
 "nbformat_minor": 5
}
